{
 "cells": [
  {
   "cell_type": "code",
   "execution_count": 1,
   "metadata": {
    "colab": {
     "base_uri": "https://localhost:8080/"
    },
    "id": "iPwAbcdAylKz",
    "outputId": "77906f25-4bf6-437c-f37a-e05380924ff3"
   },
   "outputs": [
    {
     "name": "stdout",
     "output_type": "stream",
     "text": [
      "False\n"
     ]
    }
   ],
   "source": [
    "import torch\n",
    "print(torch.cuda.is_available())"
   ]
  },
  {
   "cell_type": "code",
   "execution_count": null,
   "metadata": {},
   "outputs": [],
   "source": [
    "import fitz  # PyMuPDF\n",
    "from PIL import Image\n",
    "\n",
    "def convert_pdf_page_to_image(pdf_path, page_number, image_path):\n",
    "    pdf_document = fitz.open(pdf_path)\n",
    "    pdf_page = pdf_document.load_page(page_number - 1)  # Page numbers are 0-indexed in PyMuPDF\n",
    "\n",
    "    # Convert the PDF page to an image using PIL (Pillow)\n",
    "    image = pdf_page.get_pixmap()\n",
    "\n",
    "    # Save the image\n",
    "    image.save(image_path)\n",
    "\n",
    "    pdf_document.close()\n",
    "\n",
    "if __name__ == \"__main__\":\n",
    "    pdf_file_path = \"C:/Users/Omkar/Documents/CAD custom object detection/pressure vessel.pdf\"  # Replace with the actual path to your PDF file\n",
    "    page_number_to_convert = 1  # Replace with the page number you want to convert (1-indexed)\n",
    "    output_image_path = \"C:/Users/Omkar/Documents/CAD custom object detection/image.png\"  # Replace with the desired output image path\n",
    "\n",
    "    convert_pdf_page_to_image(pdf_file_path, page_number_to_convert, output_image_path)"
   ]
  },
  {
   "cell_type": "code",
   "execution_count": 5,
   "metadata": {
    "id": "E-bXpeivywld"
   },
   "outputs": [
    {
     "name": "stdout",
     "output_type": "stream",
     "text": [
      "Requirement already satisfied: detecto in c:\\users\\omkar\\anaconda3\\lib\\site-packages (1.2.2)\n",
      "Requirement already satisfied: torch in c:\\users\\omkar\\anaconda3\\lib\\site-packages (from detecto) (2.0.1)\n",
      "Requirement already satisfied: torchvision in c:\\users\\omkar\\anaconda3\\lib\\site-packages (from detecto) (0.15.2)\n",
      "Requirement already satisfied: opencv-python in c:\\users\\omkar\\anaconda3\\lib\\site-packages (from detecto) (4.7.0.72)\n",
      "Requirement already satisfied: pandas in c:\\users\\omkar\\anaconda3\\lib\\site-packages (from detecto) (1.5.3)\n",
      "Requirement already satisfied: tqdm in c:\\users\\omkar\\anaconda3\\lib\\site-packages (from detecto) (4.64.1)\n",
      "Requirement already satisfied: matplotlib in c:\\users\\omkar\\anaconda3\\lib\\site-packages (from detecto) (3.7.0)\n",
      "Requirement already satisfied: pillow>=6.2.0 in c:\\users\\omkar\\anaconda3\\lib\\site-packages (from matplotlib->detecto) (9.4.0)\n",
      "Requirement already satisfied: contourpy>=1.0.1 in c:\\users\\omkar\\anaconda3\\lib\\site-packages (from matplotlib->detecto) (1.0.5)\n",
      "Requirement already satisfied: python-dateutil>=2.7 in c:\\users\\omkar\\anaconda3\\lib\\site-packages (from matplotlib->detecto) (2.8.2)\n",
      "Requirement already satisfied: kiwisolver>=1.0.1 in c:\\users\\omkar\\anaconda3\\lib\\site-packages (from matplotlib->detecto) (1.4.4)\n",
      "Requirement already satisfied: pyparsing>=2.3.1 in c:\\users\\omkar\\anaconda3\\lib\\site-packages (from matplotlib->detecto) (3.0.9)\n",
      "Requirement already satisfied: numpy>=1.20 in c:\\users\\omkar\\anaconda3\\lib\\site-packages (from matplotlib->detecto) (1.23.5)\n",
      "Requirement already satisfied: fonttools>=4.22.0 in c:\\users\\omkar\\anaconda3\\lib\\site-packages (from matplotlib->detecto) (4.25.0)\n",
      "Requirement already satisfied: packaging>=20.0 in c:\\users\\omkar\\anaconda3\\lib\\site-packages (from matplotlib->detecto) (22.0)\n",
      "Requirement already satisfied: cycler>=0.10 in c:\\users\\omkar\\anaconda3\\lib\\site-packages (from matplotlib->detecto) (0.11.0)\n",
      "Requirement already satisfied: pytz>=2020.1 in c:\\users\\omkar\\anaconda3\\lib\\site-packages (from pandas->detecto) (2022.7)\n",
      "Requirement already satisfied: filelock in c:\\users\\omkar\\anaconda3\\lib\\site-packages (from torch->detecto) (3.9.0)\n",
      "Requirement already satisfied: jinja2 in c:\\users\\omkar\\anaconda3\\lib\\site-packages (from torch->detecto) (3.1.2)\n",
      "Requirement already satisfied: sympy in c:\\users\\omkar\\anaconda3\\lib\\site-packages (from torch->detecto) (1.11.1)\n",
      "Requirement already satisfied: networkx in c:\\users\\omkar\\anaconda3\\lib\\site-packages (from torch->detecto) (2.8.4)\n",
      "Requirement already satisfied: typing-extensions in c:\\users\\omkar\\anaconda3\\lib\\site-packages (from torch->detecto) (4.4.0)\n",
      "Requirement already satisfied: requests in c:\\users\\omkar\\anaconda3\\lib\\site-packages (from torchvision->detecto) (2.28.1)\n",
      "Requirement already satisfied: colorama in c:\\users\\omkar\\anaconda3\\lib\\site-packages (from tqdm->detecto) (0.4.6)\n",
      "Requirement already satisfied: six>=1.5 in c:\\users\\omkar\\anaconda3\\lib\\site-packages (from python-dateutil>=2.7->matplotlib->detecto) (1.16.0)\n",
      "Requirement already satisfied: MarkupSafe>=2.0 in c:\\users\\omkar\\anaconda3\\lib\\site-packages (from jinja2->torch->detecto) (2.1.1)\n",
      "Requirement already satisfied: charset-normalizer<3,>=2 in c:\\users\\omkar\\anaconda3\\lib\\site-packages (from requests->torchvision->detecto) (2.0.4)\n",
      "Requirement already satisfied: idna<4,>=2.5 in c:\\users\\omkar\\anaconda3\\lib\\site-packages (from requests->torchvision->detecto) (3.4)\n",
      "Requirement already satisfied: certifi>=2017.4.17 in c:\\users\\omkar\\anaconda3\\lib\\site-packages (from requests->torchvision->detecto) (2022.12.7)\n",
      "Requirement already satisfied: urllib3<1.27,>=1.21.1 in c:\\users\\omkar\\anaconda3\\lib\\site-packages (from requests->torchvision->detecto) (1.26.14)\n",
      "Requirement already satisfied: mpmath>=0.19 in c:\\users\\omkar\\anaconda3\\lib\\site-packages (from sympy->torch->detecto) (1.2.1)\n"
     ]
    }
   ],
   "source": [
    "!pip install detecto"
   ]
  },
  {
   "cell_type": "code",
   "execution_count": 6,
   "metadata": {
    "id": "gxRNQMm0Qzsh"
   },
   "outputs": [],
   "source": [
    "import numpy as np\n",
    "import matplotlib.pyplot as plt\n",
    "from torchvision import transforms\n",
    "from detecto import core, utils, visualize\n",
    "from detecto.visualize import show_labeled_image, plot_prediction_grid"
   ]
  },
  {
   "cell_type": "code",
   "execution_count": 7,
   "metadata": {
    "id": "4tsuiousRBxB"
   },
   "outputs": [],
   "source": [
    "custom_transforms = transforms.Compose([\n",
    "transforms.ToPILImage(),\n",
    "transforms.Resize(900),\n",
    "transforms.RandomHorizontalFlip(0.5),\n",
    "transforms.ColorJitter(saturation=0.2),\n",
    "transforms.ToTensor(),\n",
    "utils.normalize_transform(),\n",
    "])"
   ]
  },
  {
   "cell_type": "code",
   "execution_count": null,
   "metadata": {
    "colab": {
     "base_uri": "https://localhost:8080/"
    },
    "id": "XZLGtMdNRF-Z",
    "outputId": "89f196b1-d168-4860-ce26-97e0cb9fdd36"
   },
   "outputs": [
    {
     "name": "stderr",
     "output_type": "stream",
     "text": [
      "C:\\Users\\Omkar\\anaconda3\\lib\\site-packages\\torchvision\\models\\_utils.py:208: UserWarning: The parameter 'pretrained' is deprecated since 0.13 and may be removed in the future, please use 'weights' instead.\n",
      "  warnings.warn(\n",
      "C:\\Users\\Omkar\\anaconda3\\lib\\site-packages\\torchvision\\models\\_utils.py:223: UserWarning: Arguments other than a weight enum or `None` for 'weights' are deprecated since 0.13 and may be removed in the future. The current behavior is equivalent to passing `weights=FasterRCNN_ResNet50_FPN_Weights.COCO_V1`. You can also use `weights=FasterRCNN_ResNet50_FPN_Weights.DEFAULT` to get the most up-to-date weights.\n",
      "  warnings.warn(msg)\n"
     ]
    },
    {
     "name": "stdout",
     "output_type": "stream",
     "text": [
      "It looks like you're training your model on a CPU. Consider switching to a GPU; otherwise, this method can take hours upon hours or even days to finish. For more information, see https://detecto.readthedocs.io/en/latest/usage/quickstart.html#technical-requirements\n",
      "Epoch 1 of 25\n",
      "Begin iterating over training dataset\n"
     ]
    },
    {
     "name": "stderr",
     "output_type": "stream",
     "text": [
      "100%|██████████████████████████████████████████████████████████████████████████████████| 18/18 [09:19<00:00, 31.08s/it]\n"
     ]
    },
    {
     "name": "stdout",
     "output_type": "stream",
     "text": [
      "Begin iterating over validation dataset\n"
     ]
    },
    {
     "name": "stderr",
     "output_type": "stream",
     "text": [
      "100%|██████████████████████████████████████████████████████████████████████████████████| 15/15 [01:37<00:00,  6.52s/it]\n"
     ]
    },
    {
     "name": "stdout",
     "output_type": "stream",
     "text": [
      "Loss: 0.604208646217982\n",
      "Epoch 2 of 25\n",
      "Begin iterating over training dataset\n"
     ]
    },
    {
     "name": "stderr",
     "output_type": "stream",
     "text": [
      "100%|██████████████████████████████████████████████████████████████████████████████████| 18/18 [08:43<00:00, 29.11s/it]\n"
     ]
    },
    {
     "name": "stdout",
     "output_type": "stream",
     "text": [
      "Begin iterating over validation dataset\n"
     ]
    },
    {
     "name": "stderr",
     "output_type": "stream",
     "text": [
      "100%|██████████████████████████████████████████████████████████████████████████████████| 15/15 [00:47<00:00,  3.14s/it]\n"
     ]
    },
    {
     "name": "stdout",
     "output_type": "stream",
     "text": [
      "Loss: 0.7306248545646667\n",
      "Epoch 3 of 25\n",
      "Begin iterating over training dataset\n"
     ]
    },
    {
     "name": "stderr",
     "output_type": "stream",
     "text": [
      "100%|██████████████████████████████████████████████████████████████████████████████████| 18/18 [04:01<00:00, 13.42s/it]\n"
     ]
    },
    {
     "name": "stdout",
     "output_type": "stream",
     "text": [
      "Begin iterating over validation dataset\n"
     ]
    },
    {
     "name": "stderr",
     "output_type": "stream",
     "text": [
      "100%|██████████████████████████████████████████████████████████████████████████████████| 15/15 [00:43<00:00,  2.90s/it]\n"
     ]
    },
    {
     "name": "stdout",
     "output_type": "stream",
     "text": [
      "Loss: 0.7109817266464233\n",
      "Epoch 4 of 25\n",
      "Begin iterating over training dataset\n"
     ]
    },
    {
     "name": "stderr",
     "output_type": "stream",
     "text": [
      "100%|██████████████████████████████████████████████████████████████████████████████████| 18/18 [03:51<00:00, 12.89s/it]\n"
     ]
    },
    {
     "name": "stdout",
     "output_type": "stream",
     "text": [
      "Begin iterating over validation dataset\n"
     ]
    },
    {
     "name": "stderr",
     "output_type": "stream",
     "text": [
      "100%|██████████████████████████████████████████████████████████████████████████████████| 15/15 [00:43<00:00,  2.90s/it]\n"
     ]
    },
    {
     "name": "stdout",
     "output_type": "stream",
     "text": [
      "Loss: 0.6713084419568379\n",
      "Epoch 5 of 25\n",
      "Begin iterating over training dataset\n"
     ]
    },
    {
     "name": "stderr",
     "output_type": "stream",
     "text": [
      "100%|██████████████████████████████████████████████████████████████████████████████████| 18/18 [03:55<00:00, 13.11s/it]\n"
     ]
    },
    {
     "name": "stdout",
     "output_type": "stream",
     "text": [
      "Begin iterating over validation dataset\n"
     ]
    },
    {
     "name": "stderr",
     "output_type": "stream",
     "text": [
      "100%|██████████████████████████████████████████████████████████████████████████████████| 15/15 [00:43<00:00,  2.89s/it]\n"
     ]
    },
    {
     "name": "stdout",
     "output_type": "stream",
     "text": [
      "Loss: 0.7140109618504842\n",
      "Epoch 6 of 25\n",
      "Begin iterating over training dataset\n"
     ]
    },
    {
     "name": "stderr",
     "output_type": "stream",
     "text": [
      "100%|██████████████████████████████████████████████████████████████████████████████████| 18/18 [03:57<00:00, 13.19s/it]\n"
     ]
    },
    {
     "name": "stdout",
     "output_type": "stream",
     "text": [
      "Begin iterating over validation dataset\n"
     ]
    },
    {
     "name": "stderr",
     "output_type": "stream",
     "text": [
      "100%|██████████████████████████████████████████████████████████████████████████████████| 15/15 [00:43<00:00,  2.91s/it]\n"
     ]
    },
    {
     "name": "stdout",
     "output_type": "stream",
     "text": [
      "Loss: 0.6418574293454488\n",
      "Epoch 7 of 25\n",
      "Begin iterating over training dataset\n"
     ]
    },
    {
     "name": "stderr",
     "output_type": "stream",
     "text": [
      "100%|██████████████████████████████████████████████████████████████████████████████████| 18/18 [04:01<00:00, 13.42s/it]\n"
     ]
    },
    {
     "name": "stdout",
     "output_type": "stream",
     "text": [
      "Begin iterating over validation dataset\n"
     ]
    },
    {
     "name": "stderr",
     "output_type": "stream",
     "text": [
      " 40%|█████████████████████████████████▏                                                 | 6/15 [00:18<00:27,  3.07s/it]"
     ]
    }
   ],
   "source": [
    "Train_dataset=core.Dataset('train/',transform=custom_transforms)#L1\n",
    "Test_dataset = core.Dataset('test/')#L2\n",
    "loader=core.DataLoader(Train_dataset, batch_size=2, shuffle=True)#L3\n",
    "model = core.Model(['Nozzle'])#L4\n",
    "losses = model.fit(loader, Test_dataset, epochs=25, lr_step_size=5, learning_rate=0.001, verbose=True)#L5"
   ]
  },
  {
   "cell_type": "code",
   "execution_count": null,
   "metadata": {
    "colab": {
     "base_uri": "https://localhost:8080/",
     "height": 430
    },
    "id": "aI3I_NUPRxSQ",
    "outputId": "3dbf71a8-acd8-4ac2-e96f-b7ba62092b30"
   },
   "outputs": [],
   "source": [
    "plt.plot(losses)\n",
    "plt.show()"
   ]
  },
  {
   "cell_type": "code",
   "execution_count": null,
   "metadata": {
    "id": "X-vKY4SASA94"
   },
   "outputs": [],
   "source": [
    "model.save('model_weights.pth')\n",
    "model = core.Model.load('model_weights.pth', ['Nozzle'])"
   ]
  },
  {
   "cell_type": "code",
   "execution_count": null,
   "metadata": {
    "id": "H4VQ_Fp_SLZY"
   },
   "outputs": [],
   "source": [
    "# image = utils.read_image('pressure vessel.jpg')\n",
    "# predictions = model.predict(image)\n",
    "# labels, boxes, scores = predictions\n",
    "# show_labeled_image(image, boxes, labels)"
   ]
  },
  {
   "cell_type": "code",
   "execution_count": 1,
   "metadata": {
    "colab": {
     "base_uri": "https://localhost:8080/",
     "height": 435
    },
    "id": "23K9GLbKSp6P",
    "outputId": "3e7f28a5-3a6b-4657-8a38-e33bb7bbbe02"
   },
   "outputs": [
    {
     "ename": "NameError",
     "evalue": "name 'np' is not defined",
     "output_type": "error",
     "traceback": [
      "\u001b[1;31m---------------------------------------------------------------------------\u001b[0m",
      "\u001b[1;31mNameError\u001b[0m                                 Traceback (most recent call last)",
      "Cell \u001b[1;32mIn[1], line 2\u001b[0m\n\u001b[0;32m      1\u001b[0m thresh\u001b[38;5;241m=\u001b[39m\u001b[38;5;241m0.6\u001b[39m\n\u001b[1;32m----> 2\u001b[0m filtered_indices\u001b[38;5;241m=\u001b[39m\u001b[43mnp\u001b[49m\u001b[38;5;241m.\u001b[39mwhere(scores\u001b[38;5;241m>\u001b[39mthresh)\n\u001b[0;32m      3\u001b[0m filtered_scores\u001b[38;5;241m=\u001b[39mscores[filtered_indices]\n\u001b[0;32m      4\u001b[0m filtered_boxes\u001b[38;5;241m=\u001b[39mboxes[filtered_indices]\n",
      "\u001b[1;31mNameError\u001b[0m: name 'np' is not defined"
     ]
    }
   ],
   "source": [
    "thresh=0.6\n",
    "filtered_indices=np.where(scores>thresh)\n",
    "filtered_scores=scores[filtered_indices]\n",
    "filtered_boxes=boxes[filtered_indices]\n",
    "num_list = filtered_indices[0].tolist()\n",
    "filtered_labels = [labels[i] for i in num_list]\n",
    "show_labeled_image(image, filtered_boxes, filtered_labels)"
   ]
  },
  {
   "cell_type": "code",
   "execution_count": null,
   "metadata": {
    "id": "4iW3Ssv0Sqi_"
   },
   "outputs": [],
   "source": []
  },
  {
   "cell_type": "code",
   "execution_count": null,
   "metadata": {},
   "outputs": [],
   "source": []
  }
 ],
 "metadata": {
  "accelerator": "GPU",
  "colab": {
   "gpuType": "T4",
   "provenance": []
  },
  "kernelspec": {
   "display_name": "Python 3 (ipykernel)",
   "language": "python",
   "name": "python3"
  },
  "language_info": {
   "codemirror_mode": {
    "name": "ipython",
    "version": 3
   },
   "file_extension": ".py",
   "mimetype": "text/x-python",
   "name": "python",
   "nbconvert_exporter": "python",
   "pygments_lexer": "ipython3",
   "version": "3.10.9"
  }
 },
 "nbformat": 4,
 "nbformat_minor": 1
}
