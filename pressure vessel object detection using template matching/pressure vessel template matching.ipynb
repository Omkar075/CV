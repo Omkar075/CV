{
 "cells": [
  {
   "cell_type": "code",
   "execution_count": 1,
   "id": "a0ac8386",
   "metadata": {},
   "outputs": [],
   "source": [
    "import cv2\n",
    "import numpy as np\n",
    "\n",
    "# Load the main image\n",
    "main_image = cv2.imread('pressure vessel.jpg')\n",
    "\n",
    "# Define a list of template images\n",
    "templates = ['template.jpg', 'template1.jpg']\n",
    "\n",
    "# Convert the main image to grayscale\n",
    "gray_main = cv2.cvtColor(main_image, cv2.COLOR_BGR2GRAY)\n",
    "\n",
    "# Loop over the templates\n",
    "for template_path in templates:\n",
    "    # Load the template\n",
    "    template = cv2.imread(template_path)\n",
    "\n",
    "    # Convert the template to grayscale\n",
    "    gray_template = cv2.cvtColor(template, cv2.COLOR_BGR2GRAY)\n",
    "\n",
    "    # Perform template matching\n",
    "    result = cv2.matchTemplate(gray_main, gray_template, cv2.TM_CCOEFF_NORMED)\n",
    "\n",
    "    # Define a threshold to determine the matches\n",
    "    threshold = 0.8\n",
    "\n",
    "    # Find template matches above the threshold\n",
    "    loc = np.where(result >= threshold)\n",
    "\n",
    "    # Draw bounding boxes around the matched regions\n",
    "    w, h = gray_template.shape[::-1]\n",
    "    for pt in zip(*loc[::-1]):\n",
    "        cv2.rectangle(main_image, pt, (pt[0] + w, pt[1] + h), (0, 255, 0), 2)\n",
    "        cv2.putText(main_image, 'Nozzle', (pt[0], pt[1]), cv2.FONT_HERSHEY_SIMPLEX, 1.5, (0, 255, 0), 3)\n",
    "\n",
    "# Display the result\n",
    "cv2.imshow('Object Detection', cv2.resize(main_image,(900,900)))\n",
    "cv2.imwrite('template matching.jpg',main_image)\n",
    "cv2.waitKey(0)\n",
    "cv2.destroyAllWindows()\n"
   ]
  },
  {
   "cell_type": "code",
   "execution_count": null,
   "id": "bbeb5c60",
   "metadata": {},
   "outputs": [],
   "source": [
    "    \n",
    "    "
   ]
  }
 ],
 "metadata": {
  "kernelspec": {
   "display_name": "Python 3 (ipykernel)",
   "language": "python",
   "name": "python3"
  },
  "language_info": {
   "codemirror_mode": {
    "name": "ipython",
    "version": 3
   },
   "file_extension": ".py",
   "mimetype": "text/x-python",
   "name": "python",
   "nbconvert_exporter": "python",
   "pygments_lexer": "ipython3",
   "version": "3.10.9"
  }
 },
 "nbformat": 4,
 "nbformat_minor": 5
}
